{
 "cells": [
  {
   "cell_type": "markdown",
   "id": "f532bfc7-0a4c-4f03-b04f-329b0d2d8469",
   "metadata": {},
   "source": [
    "# Data Science Tools and Ecosystem"
   ]
  },
  {
   "cell_type": "markdown",
   "id": "e30f8046-b1a3-40d8-ba2d-782d833b20bb",
   "metadata": {},
   "source": [
    "In this notebook, Data Science Tools and Ecosystem are summarized"
   ]
  },
  {
   "cell_type": "markdown",
   "id": "bf5742e4-df8c-4616-8d2f-f28dbc9cc440",
   "metadata": {},
   "source": [
    "**Objectives:**\n",
    "\n",
    "* List popular languages for Data Science\n",
    "* List commonly used libraries in Data Science\n",
    "* List Data Science Tools\n",
    "* Give examples of arithmetic expressions in Python"
   ]
  },
  {
   "cell_type": "markdown",
   "id": "2d5e05f0-c6c9-4849-861a-014878bd6bc9",
   "metadata": {},
   "source": [
    "Some of the popular languages that Data Scientists use are:\n",
    "1. Python\n",
    "2. R\n",
    "3. SQL\n",
    "4. Javascript\n",
    "5. Scala\n",
    "6. C++"
   ]
  },
  {
   "cell_type": "markdown",
   "id": "b5d083f8-2ed9-4176-acb8-5c3ce2482360",
   "metadata": {},
   "source": [
    "Some of the commonly used libraries used by Data Scientists include:\n",
    "1. pandas (python-computing)\n",
    "2. NumPy (python-computing)\n",
    "3. Matplotlib (python-visualization)\n",
    "4. ggplot2 (R-visualization)\n",
    "5. TensorFlow (python-c++-deep learning)"
   ]
  },
  {
   "cell_type": "markdown",
   "id": "ed1c07d4-1aad-4c8a-8514-12ce2825f09d",
   "metadata": {},
   "source": [
    "|Data Science Tools|\n",
    "-------------------\n",
    "|Anaconda|\n",
    "|Jupyter Lab|\n",
    "|VS code|\n",
    "|Jupyter Lite|\n",
    "|gitHub|"
   ]
  },
  {
   "cell_type": "markdown",
   "id": "c639715b-587a-4676-b91f-45803e766f50",
   "metadata": {},
   "source": [
    "### Below are a few examples of evaluating arithmetic expressions in Python"
   ]
  },
  {
   "cell_type": "code",
   "execution_count": 2,
   "id": "2aa1939b-ca0b-4214-8219-f658424660f4",
   "metadata": {
    "tags": []
   },
   "outputs": [
    {
     "data": {
      "text/plain": [
       "17"
      ]
     },
     "execution_count": 2,
     "metadata": {},
     "output_type": "execute_result"
    }
   ],
   "source": [
    "# This is a simple arithmetic expression to multiply then add integers\n",
    "(3*4)+5"
   ]
  },
  {
   "cell_type": "code",
   "execution_count": 3,
   "id": "5a3027ba-f78e-4982-983a-f8887bb7e93e",
   "metadata": {
    "tags": []
   },
   "outputs": [
    {
     "name": "stdout",
     "output_type": "stream",
     "text": [
      "3.3333333333333335  hours\n"
     ]
    }
   ],
   "source": [
    "# This will convert 200 minutes to hours by dividing by 60\n",
    "minutes = 200\n",
    "hours = minutes / 60\n",
    "print(hours,\" hours\")"
   ]
  },
  {
   "cell_type": "markdown",
   "id": "5618e74b-b0ad-4a19-a078-b66f1da1715b",
   "metadata": {},
   "source": [
    "## Author\n",
    "Grégoire Bouiller"
   ]
  },
  {
   "cell_type": "code",
   "execution_count": null,
   "id": "c263f274-5c16-4642-a3e0-320bcac26eb1",
   "metadata": {},
   "outputs": [],
   "source": []
  }
 ],
 "metadata": {
  "kernelspec": {
   "display_name": "Python",
   "language": "python",
   "name": "conda-env-python-py"
  },
  "language_info": {
   "codemirror_mode": {
    "name": "ipython",
    "version": 3
   },
   "file_extension": ".py",
   "mimetype": "text/x-python",
   "name": "python",
   "nbconvert_exporter": "python",
   "pygments_lexer": "ipython3",
   "version": "3.7.12"
  }
 },
 "nbformat": 4,
 "nbformat_minor": 5
}
